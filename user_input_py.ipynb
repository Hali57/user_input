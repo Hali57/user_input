{
  "nbformat": 4,
  "nbformat_minor": 0,
  "metadata": {
    "colab": {
      "provenance": [],
      "authorship_tag": "ABX9TyMuv8ytCH+TEJbynvoTPJcU",
      "include_colab_link": true
    },
    "kernelspec": {
      "name": "python3",
      "display_name": "Python 3"
    },
    "language_info": {
      "name": "python"
    }
  },
  "cells": [
    {
      "cell_type": "markdown",
      "metadata": {
        "id": "view-in-github",
        "colab_type": "text"
      },
      "source": [
        "<a href=\"https://colab.research.google.com/github/Hali57/user_input/blob/main/user_input_py.ipynb\" target=\"_parent\"><img src=\"https://colab.research.google.com/assets/colab-badge.svg\" alt=\"Open In Colab\"/></a>"
      ]
    },
    {
      "cell_type": "code",
      "source": [
        "from __future__ import print_function\n",
        "# create a program that collects  user input and sends out a personalized message based on their inputs.\n",
        "\n",
        "#obtain the users name\n",
        "name = input(\"Please enter your name.\")\n",
        "\n",
        "#obtain the users age\n",
        "age =int( input(\"Please enter your age.\"))\n",
        "\n",
        "#obtain their current location.\n",
        "location = input(\"Please enter your current location.\")\n",
        "\n",
        "#Print out a personalized message\n",
        "print(f\"Hello {name}, you are {age} years old and you currently live in {location} \")"
      ],
      "metadata": {
        "id": "brrOsIiuT9Kp"
      },
      "execution_count": null,
      "outputs": []
    },
    {
      "cell_type": "code",
      "source": [],
      "metadata": {
        "id": "fyFmkxG5cv_v"
      },
      "execution_count": null,
      "outputs": []
    }
  ]
}